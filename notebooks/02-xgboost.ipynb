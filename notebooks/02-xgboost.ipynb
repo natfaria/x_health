{
 "cells": [
  {
   "cell_type": "markdown",
   "metadata": {},
   "source": [
    "# Modelagem para o problema X-Health"
   ]
  },
  {
   "cell_type": "markdown",
   "metadata": {},
   "source": [
    "## Importando Bibliotecas"
   ]
  },
  {
   "cell_type": "code",
   "execution_count": 1,
   "metadata": {},
   "outputs": [
    {
     "name": "stderr",
     "output_type": "stream",
     "text": [
      "\u001b[32m2025-02-06 00:14:37.512\u001b[0m | \u001b[1mINFO    \u001b[0m | \u001b[36mx_health.config\u001b[0m:\u001b[36m<module>\u001b[0m:\u001b[36m11\u001b[0m - \u001b[1mPROJ_ROOT path is: C:\\Users\\Natalia\\OneDrive\\Documentos\\PROJETOS\\Kognita\\x_health\u001b[0m\n"
     ]
    }
   ],
   "source": [
    "#adicionando retorno no diretório ao caminho\n",
    "import sys\n",
    "sys.path.append('../')\n",
    "\n",
    "#ignorar warnings \n",
    "import warnings\n",
    "warnings.filterwarnings('ignore')\n",
    "\n",
    "#informação de diretórios\n",
    "from x_health.config import *\n",
    "\n",
    "# arquivo auxiliar\n",
    "from x_health.xgboost_utils import *"
   ]
  },
  {
   "cell_type": "code",
   "execution_count": 2,
   "metadata": {},
   "outputs": [],
   "source": [
    "import pandas as pd\n",
    "import numpy as np\n",
    "#import matplotlib.pyplot as plt\n",
    "\n",
    "import xgboost as xgb\n",
    "import optuna\n",
    "\n",
    "#from sklearn.preprocessing import LabelEncoder\n",
    "import pickle"
   ]
  },
  {
   "cell_type": "markdown",
   "metadata": {},
   "source": [
    "## Adicionando base e definindo var_alvo"
   ]
  },
  {
   "cell_type": "code",
   "execution_count": 3,
   "metadata": {},
   "outputs": [
    {
     "name": "stdout",
     "output_type": "stream",
     "text": [
      "\u001b[32m2025-02-06 00:14:40.171\u001b[0m | \u001b[1mINFO    \u001b[0m | \u001b[36m__main__\u001b[0m:\u001b[36m<module>\u001b[0m:\u001b[36m6\u001b[0m - \u001b[1mBase importada com tamanho: 117273\u001b[0m\n"
     ]
    }
   ],
   "source": [
    "#importando a base do arquivo externo\n",
    "nome_base = f'{EXTERNAL_DATA_DIR}/dataset_2021-5-26-10-14.csv'\n",
    "#nome_base = f'{PROCESSED_DATA_DIR}/01-x-health-consolid_cols.csv'\n",
    "df = pd.read_csv(nome_base, sep = '\\t', encoding='utf-8', na_values=\"missing\")\n",
    "backup = df.copy()\n",
    "logger.info(f'Base importada com tamanho: {len(df)}')"
   ]
  },
  {
   "cell_type": "code",
   "execution_count": 4,
   "metadata": {},
   "outputs": [],
   "source": [
    "#Definir a variavel alvo\n",
    "var_alvo = 'default'  # Variável alvo"
   ]
  },
  {
   "cell_type": "code",
   "execution_count": 5,
   "metadata": {},
   "outputs": [
    {
     "data": {
      "text/plain": [
       "array(['default_3months', 'ioi_36months', 'ioi_3months',\n",
       "       'valor_por_vencer', 'valor_vencido', 'valor_quitado',\n",
       "       'quant_protestos', 'valor_protestos', 'quant_acao_judicial',\n",
       "       'acao_judicial_valor', 'participacao_falencia_valor',\n",
       "       'dividas_vencidas_valor', 'dividas_vencidas_qtd',\n",
       "       'falencia_concordata_qtd', 'tipo_sociedade', 'opcao_tributaria',\n",
       "       'atividade_principal', 'forma_pagamento', 'valor_total_pedido',\n",
       "       'month', 'year', 'default'], dtype=object)"
      ]
     },
     "execution_count": 5,
     "metadata": {},
     "output_type": "execute_result"
    }
   ],
   "source": [
    "df.columns.values"
   ]
  },
  {
   "cell_type": "code",
   "execution_count": 6,
   "metadata": {},
   "outputs": [
    {
     "data": {
      "text/plain": [
       "forma_pagamento                32477\n",
       "opcao_tributaria               18325\n",
       "tipo_sociedade                   608\n",
       "atividade_principal              592\n",
       "default_3months                    0\n",
       "ioi_36months                       0\n",
       "valor_quitado                      0\n",
       "valor_vencido                      0\n",
       "valor_por_vencer                   0\n",
       "ioi_3months                        0\n",
       "quant_protestos                    0\n",
       "valor_protestos                    0\n",
       "quant_acao_judicial                0\n",
       "acao_judicial_valor                0\n",
       "falencia_concordata_qtd            0\n",
       "dividas_vencidas_qtd               0\n",
       "dividas_vencidas_valor             0\n",
       "participacao_falencia_valor        0\n",
       "valor_total_pedido                 0\n",
       "month                              0\n",
       "year                               0\n",
       "default                            0\n",
       "dtype: int64"
      ]
     },
     "execution_count": 6,
     "metadata": {},
     "output_type": "execute_result"
    }
   ],
   "source": [
    "df.isna().sum().sort_values(ascending=False)"
   ]
  },
  {
   "cell_type": "markdown",
   "metadata": {},
   "source": [
    "## Transformações e normalizações"
   ]
  },
  {
   "cell_type": "code",
   "execution_count": 7,
   "metadata": {},
   "outputs": [
    {
     "data": {
      "text/plain": [
       "forma_pagamento                32477\n",
       "opcao_tributaria               18325\n",
       "tipo_sociedade                   608\n",
       "atividade_principal              592\n",
       "default_3months                    0\n",
       "ioi_36months                       0\n",
       "valor_quitado                      0\n",
       "valor_vencido                      0\n",
       "valor_por_vencer                   0\n",
       "ioi_3months                        0\n",
       "quant_protestos                    0\n",
       "valor_protestos                    0\n",
       "quant_acao_judicial                0\n",
       "acao_judicial_valor                0\n",
       "falencia_concordata_qtd            0\n",
       "dividas_vencidas_qtd               0\n",
       "dividas_vencidas_valor             0\n",
       "participacao_falencia_valor        0\n",
       "valor_total_pedido                 0\n",
       "month                              0\n",
       "year                               0\n",
       "default                            0\n",
       "dtype: int64"
      ]
     },
     "execution_count": 7,
     "metadata": {},
     "output_type": "execute_result"
    }
   ],
   "source": [
    "df.isna().sum().sort_values(ascending=False)"
   ]
  },
  {
   "cell_type": "code",
   "execution_count": 8,
   "metadata": {},
   "outputs": [],
   "source": [
    "### criar flag\n",
    "df[\"flag_valor_vencido\"] = (df[\"valor_vencido\"] > 0).astype(int)"
   ]
  },
  {
   "cell_type": "code",
   "execution_count": 9,
   "metadata": {},
   "outputs": [],
   "source": [
    "## criar agrupamento da forma de pagamento\n",
    "df['forma_pagamento_agrup'] = agrupar_prazo(df, 'forma_pagamento')"
   ]
  },
  {
   "cell_type": "code",
   "execution_count": 10,
   "metadata": {},
   "outputs": [],
   "source": [
    "#Cria separação por trimestres\n",
    "df[\"periodo_fiscal\"] = df[\"month\"].apply(lambda x: \"1T\" if x in [1, 2, 3] else \n",
    "                                         \"2T\" if x in [4, 5, 6] else \n",
    "                                         \"3T\" if x in [7, 8, 9] else \"4T\")"
   ]
  },
  {
   "cell_type": "code",
   "execution_count": 11,
   "metadata": {},
   "outputs": [],
   "source": [
    "# Criar razão entre valor vencido e valor total pago(+1 para evitar divisão por 0)\n",
    "df[\"razao_valor_vencido\"] = df[\"valor_vencido\"] / (df[\"valor_quitado\"] + 1)"
   ]
  },
  {
   "cell_type": "code",
   "execution_count": 12,
   "metadata": {},
   "outputs": [],
   "source": [
    "# Criar histórico de pagamento como proporção de valores pagos em relação ao vencido\n",
    "df[\"historico_pagamento\"] = df[\"valor_quitado\"] / (df[\"valor_quitado\"] + df[\"valor_vencido\"] + 1)"
   ]
  },
  {
   "cell_type": "code",
   "execution_count": 13,
   "metadata": {},
   "outputs": [],
   "source": [
    "df = tratar_categoricas(df)"
   ]
  },
  {
   "cell_type": "markdown",
   "metadata": {},
   "source": [
    "#### Seleção de features"
   ]
  },
  {
   "cell_type": "code",
   "execution_count": 14,
   "metadata": {},
   "outputs": [],
   "source": [
    "colunas = [ # lista de colunas a serem utilizadas    \n",
    "    'flag_valor_vencido',\n",
    "    'quant_protestos',\n",
    "    'default_3months',\n",
    "    'opcao_tributaria',\n",
    "    'razao_valor_vencido',\n",
    "    'forma_pagamento_agrup',\n",
    "\n",
    "    #'valor_vencido', #ja foi usada a flag\n",
    "    'periodo_fiscal',\n",
    "    'ioi_3months',\n",
    "    'historico_pagamento',\n",
    "]"
   ]
  },
  {
   "cell_type": "markdown",
   "metadata": {},
   "source": [
    "### Preparo de teste e treino"
   ]
  },
  {
   "cell_type": "code",
   "execution_count": 15,
   "metadata": {},
   "outputs": [],
   "source": [
    "## preparar variaveis e separar em teste e treino\n",
    "X_train, X_test, y_train, y_test = preparar_dados(df[colunas + [var_alvo]], target=var_alvo)"
   ]
  },
  {
   "cell_type": "code",
   "execution_count": 16,
   "metadata": {},
   "outputs": [
    {
     "data": {
      "text/plain": [
       "(Index(['flag_valor_vencido', 'quant_protestos', 'default_3months',\n",
       "        'opcao_tributaria', 'razao_valor_vencido', 'forma_pagamento_agrup',\n",
       "        'periodo_fiscal', 'ioi_3months', 'historico_pagamento'],\n",
       "       dtype='object'),\n",
       " Index(['flag_valor_vencido', 'quant_protestos', 'default_3months',\n",
       "        'opcao_tributaria', 'razao_valor_vencido', 'forma_pagamento_agrup',\n",
       "        'periodo_fiscal', 'ioi_3months', 'historico_pagamento'],\n",
       "       dtype='object'))"
      ]
     },
     "execution_count": 16,
     "metadata": {},
     "output_type": "execute_result"
    }
   ],
   "source": [
    "X_train.columns, X_test.columns"
   ]
  },
  {
   "cell_type": "code",
   "execution_count": 17,
   "metadata": {},
   "outputs": [],
   "source": [
    "# Criando os DMatrix para XGBoost\n",
    "dtrain = xgb.DMatrix(X_train, label=y_train)\n",
    "dtest = xgb.DMatrix(X_test, label=y_test)"
   ]
  },
  {
   "cell_type": "code",
   "execution_count": 18,
   "metadata": {},
   "outputs": [
    {
     "name": "stdout",
     "output_type": "stream",
     "text": [
      "scale_pos_weight sugerido: 5.00\n"
     ]
    }
   ],
   "source": [
    "# Calcular scale_pos_weight\n",
    "contagem_classes = np.bincount(y_train)  # Conta os valores 0 e 1 no y_train\n",
    "\n",
    "scale_pos_weight = contagem_classes[0] / contagem_classes[1]\n",
    "print(f\"scale_pos_weight sugerido: {scale_pos_weight:.2f}\")"
   ]
  },
  {
   "cell_type": "code",
   "execution_count": 19,
   "metadata": {},
   "outputs": [],
   "source": [
    "# Configuração do modelo\n",
    "params = {\n",
    "    'objective': 'binary:logistic',  # Classificação binária\n",
    "    'eval_metric': 'auc',        \n",
    "    'scale_pos_weight': scale_pos_weight,\n",
    "    'max_depth': 6,\n",
    "    'learning_rate': 0.1,\n",
    "    'n_estimators': 100\n",
    "}"
   ]
  },
  {
   "cell_type": "markdown",
   "metadata": {},
   "source": [
    "## Modelo pre-optuna"
   ]
  },
  {
   "cell_type": "code",
   "execution_count": 20,
   "metadata": {},
   "outputs": [],
   "source": [
    "# Treinando o modelo\n",
    "model = xgb.train(params, dtrain, num_boost_round=100)"
   ]
  },
  {
   "cell_type": "code",
   "execution_count": 21,
   "metadata": {},
   "outputs": [],
   "source": [
    "# Previsões de probabilidades\n",
    "y_pred_train_prob = model.predict(dtrain)\n",
    "y_pred_test_prob = model.predict(dtest)\n",
    "\n",
    "# Convertendo as probabilidades para classificação binária (0 ou 1)\n",
    "y_pred_train = (y_pred_train_prob > 0.5).astype(int)\n",
    "y_pred_test = (y_pred_test_prob > 0.5).astype(int)\n",
    "\n",
    "# Valores reais (y_true)\n",
    "y_true_train = y_train.values\n",
    "y_true_test = y_test.values"
   ]
  },
  {
   "cell_type": "markdown",
   "metadata": {},
   "source": [
    "#### Métricas e Matriz de Confusão"
   ]
  },
  {
   "cell_type": "code",
   "execution_count": 22,
   "metadata": {},
   "outputs": [
    {
     "data": {
      "text/plain": [
       "(    Métrica    Treino     Teste\n",
       " 0   AUC-ROC  0.845713  0.824839\n",
       " 1  Acurácia  0.775086  0.760350\n",
       " 2  Precisão  0.403782  0.381964\n",
       " 3    Recall  0.733372  0.708621\n",
       " 4  F1-score  0.520813  0.496371\n",
       " 5  Log Loss  0.487714  0.504006,\n",
       " 0    0.975318\n",
       " 1    0.980988\n",
       " 2    0.945965\n",
       " 3    0.966251\n",
       " 4    0.953070\n",
       " 5    1.033406\n",
       " dtype: float64)"
      ]
     },
     "execution_count": 22,
     "metadata": {},
     "output_type": "execute_result"
    }
   ],
   "source": [
    "# Chamando a função de avaliação:\n",
    "metrica_inicial = avaliar_XGBoost(model, dtrain, y_train, dtest, y_test)\n",
    "result = metrica_inicial['Teste']/metrica_inicial['Treino']\n",
    "metrica_inicial, result"
   ]
  },
  {
   "cell_type": "code",
   "execution_count": 23,
   "metadata": {},
   "outputs": [
    {
     "name": "stdout",
     "output_type": "stream",
     "text": [
      "Figura salva em: C:\\Users\\Natalia\\OneDrive\\Documentos\\PROJETOS\\Kognita\\x_health\\reports\\figures/matriz_confusao_XGBoost_inicial.png\n"
     ]
    },
    {
     "data": {
      "image/png": "[encoded data removed]",
      "text/plain": [
       "<Figure size 600x300 with 2 Axes>"
      ]
     },
     "metadata": {},
     "output_type": "display_data"
    }
   ],
   "source": [
    "plot_matriz_confusao(y_true_train, y_pred_train, y_true_test, y_pred_test, \n",
    "                     size=(6,3), cmap_train=\"Reds\", cmap_test=\"Blues\", \n",
    "                     save_path=f'{FIGURES_DIR}/matriz_confusao_XGBoost_inicial.png')"
   ]
  },
  {
   "cell_type": "markdown",
   "metadata": {},
   "source": [
    "### Optuna"
   ]
  },
  {
   "cell_type": "code",
   "execution_count": 24,
   "metadata": {},
   "outputs": [],
   "source": [
    "# desabilita warnings do optuna\n",
    "optuna.logging.set_verbosity(optuna.logging.WARNING)  # Configurar o nível de log no Optuna\n",
    "logger.disable(\"optuna\")  # Desativa logs do Optuna no loguru"
   ]
  },
  {
   "cell_type": "code",
   "execution_count": 25,
   "metadata": {},
   "outputs": [],
   "source": [
    "#metrica da função\n",
    "metrica = \"test-auc-mean\"\n",
    "\n",
    "# Função de otimização do Optuna\n",
    "def objective(trial):\n",
    "    \n",
    "    params = {\n",
    "        \"objective\": \"binary:logistic\",\n",
    "        \"scale_pos_weight\": trial.suggest_float(\"scale_pos_weight\", max(1.0, scale_pos_weight - 0.8), scale_pos_weight - 0.4), ########## 2- ESTAVA 1-3\n",
    "        \"eval_metric\": \"auc\",  # Avalia a métrica AUC\n",
    "        \"max_depth\": trial.suggest_int(\"max_depth\", 3, 6), ############ 3- ESTAVA 3-10\n",
    "        \"learning_rate\": trial.suggest_float(\"learning_rate\", 0.01, 0.3), ########### 4- estava 0.01 - 0.3\n",
    "        \"n_estimators\": trial.suggest_int(\"n_estimators\", 50, 200), ########## 1- ESTAVA 500\n",
    "        \"subsample\": 0.80,  # Mantendo fixo\n",
    "        \"colsample_bytree\": 0.80,  # Mantendo fixo\n",
    "        \"lambda\": trial.suggest_float(\"lambda\", 1e-3, 10.0),  # Regularização L2\n",
    "        \"alpha\": trial.suggest_float(\"alpha\", 1e-3, 10.0),  # Regularização L1\n",
    "        \"min_child_weight\": trial.suggest_int(\"min_child_weight\", 5, 15),\n",
    "        \"gamma\": trial.suggest_float(\"gamma\", 0.0, 5.0),\n",
    "        \"n_jobs\": -1  # Habilita paralelização\n",
    "    }\n",
    "\n",
    "    # Executa cross-validation com 5 folds\n",
    "    cv_results = xgb.cv(\n",
    "        params, dtrain, num_boost_round=100,\n",
    "        nfold=5, stratified=True, early_stopping_rounds=10, seed=42\n",
    "    )\n",
    "\n",
    "    # Capturar a métrica correta\n",
    "    metric_column = [col for col in cv_results.columns if metrica in col]\n",
    "    if not metric_column:\n",
    "        raise ValueError(f\"Métrica '{metrica}' não encontrada! Colunas disponíveis: {cv_results.columns}\")\n",
    "    return max(cv_results[metric_column[0]])  # Maximiza AUC e a retorna  \n",
    "\n",
    "\n"
   ]
  },
  {
   "cell_type": "code",
   "execution_count": 26,
   "metadata": {},
   "outputs": [],
   "source": [
    "# Executar a otimização com paralelização\n",
    "study = optuna.create_study(direction=\"maximize\", sampler=optuna.samplers.TPESampler())\n",
    "study.optimize(objective, n_trials=20, n_jobs=-1)  # Executa múltiplos trials em paralelo"
   ]
  },
  {
   "cell_type": "code",
   "execution_count": 27,
   "metadata": {},
   "outputs": [
    {
     "name": "stdout",
     "output_type": "stream",
     "text": [
      "Melhores Hiperparâmetros: {'scale_pos_weight': 4.386187603423899, 'max_depth': 6, 'learning_rate': 0.20707991567189568, 'n_estimators': 200, 'lambda': 3.626892285324123, 'alpha': 1.670537505396176, 'min_child_weight': 11, 'gamma': 1.2107967246394071}\n",
      "Melhor Valor: 0.8333710271842412\n"
     ]
    }
   ],
   "source": [
    "# Melhor conjunto de hiperparâmetros encontrado\n",
    "best_params = study.best_params\n",
    "best_value = study.best_value\n",
    "print(\"Melhores Hiperparâmetros:\", best_params)\n",
    "print(\"Melhor Valor:\", best_value)"
   ]
  },
  {
   "cell_type": "markdown",
   "metadata": {},
   "source": [
    "#### Parametros"
   ]
  },
  {
   "cell_type": "code",
   "execution_count": 28,
   "metadata": {},
   "outputs": [],
   "source": [
    "best_params = {\n",
    "    'scale_pos_weight': 4.375905217516745, \n",
    "    'max_depth': 6, \n",
    "    'learning_rate': 0.2727069825106735, \n",
    "    'n_estimators': 120, \n",
    "    'lambda': 8.087940526870096, \n",
    "    'alpha': 1.3597159615097383, \n",
    "    'min_child_weight': 8, \n",
    "    'gamma': 0.7339255157763341\n",
    "    }"
   ]
  },
  {
   "cell_type": "markdown",
   "metadata": {},
   "source": [
    "## Modelo pós-optuna"
   ]
  },
  {
   "cell_type": "code",
   "execution_count": 29,
   "metadata": {},
   "outputs": [],
   "source": [
    "# Treinar modelo final com melhores hiperparâmetros\n",
    "xgb_optimized = xgb.train(best_params, dtrain, num_boost_round=100)"
   ]
  },
  {
   "cell_type": "code",
   "execution_count": 30,
   "metadata": {},
   "outputs": [],
   "source": [
    "# Chamando a função de avaliação:\n",
    "metrica_final = avaliar_XGBoost(xgb_optimized, dtrain, y_train, dtest, y_test)"
   ]
  },
  {
   "cell_type": "code",
   "execution_count": 31,
   "metadata": {},
   "outputs": [
    {
     "data": {
      "text/html": [
       "<div>\n",
       "<style scoped>\n",
       "    .dataframe tbody tr th:only-of-type {\n",
       "        vertical-align: middle;\n",
       "    }\n",
       "\n",
       "    .dataframe tbody tr th {\n",
       "        vertical-align: top;\n",
       "    }\n",
       "\n",
       "    .dataframe thead th {\n",
       "        text-align: right;\n",
       "    }\n",
       "</style>\n",
       "<table border=\"1\" class=\"dataframe\">\n",
       "  <thead>\n",
       "    <tr style=\"text-align: right;\">\n",
       "      <th></th>\n",
       "      <th>Métrica</th>\n",
       "      <th>Treino_x</th>\n",
       "      <th>Teste_x</th>\n",
       "      <th>Treino_y</th>\n",
       "      <th>Teste_y</th>\n",
       "      <th>final treino</th>\n",
       "      <th>final teste</th>\n",
       "      <th>razao teste/treino</th>\n",
       "    </tr>\n",
       "  </thead>\n",
       "  <tbody>\n",
       "    <tr>\n",
       "      <th>0</th>\n",
       "      <td>AUC-ROC</td>\n",
       "      <td>0.845713</td>\n",
       "      <td>0.824839</td>\n",
       "      <td>0.839593</td>\n",
       "      <td>0.820819</td>\n",
       "      <td>-0.006120</td>\n",
       "      <td>-0.004019</td>\n",
       "      <td>0.656799</td>\n",
       "    </tr>\n",
       "    <tr>\n",
       "      <th>1</th>\n",
       "      <td>Acurácia</td>\n",
       "      <td>0.775086</td>\n",
       "      <td>0.760350</td>\n",
       "      <td>0.800124</td>\n",
       "      <td>0.791942</td>\n",
       "      <td>0.025038</td>\n",
       "      <td>0.031592</td>\n",
       "      <td>1.261787</td>\n",
       "    </tr>\n",
       "    <tr>\n",
       "      <th>2</th>\n",
       "      <td>Precisão</td>\n",
       "      <td>0.403782</td>\n",
       "      <td>0.381964</td>\n",
       "      <td>0.436377</td>\n",
       "      <td>0.421402</td>\n",
       "      <td>0.032595</td>\n",
       "      <td>0.039438</td>\n",
       "      <td>1.209945</td>\n",
       "    </tr>\n",
       "    <tr>\n",
       "      <th>3</th>\n",
       "      <td>Recall</td>\n",
       "      <td>0.733372</td>\n",
       "      <td>0.708621</td>\n",
       "      <td>0.683423</td>\n",
       "      <td>0.665899</td>\n",
       "      <td>-0.049949</td>\n",
       "      <td>-0.042722</td>\n",
       "      <td>0.855314</td>\n",
       "    </tr>\n",
       "    <tr>\n",
       "      <th>4</th>\n",
       "      <td>F1-score</td>\n",
       "      <td>0.520813</td>\n",
       "      <td>0.496371</td>\n",
       "      <td>0.532649</td>\n",
       "      <td>0.516161</td>\n",
       "      <td>0.011836</td>\n",
       "      <td>0.019790</td>\n",
       "      <td>1.672022</td>\n",
       "    </tr>\n",
       "    <tr>\n",
       "      <th>5</th>\n",
       "      <td>Log Loss</td>\n",
       "      <td>0.487714</td>\n",
       "      <td>0.504006</td>\n",
       "      <td>0.472765</td>\n",
       "      <td>0.491182</td>\n",
       "      <td>-0.014949</td>\n",
       "      <td>-0.012825</td>\n",
       "      <td>0.857880</td>\n",
       "    </tr>\n",
       "  </tbody>\n",
       "</table>\n",
       "</div>"
      ],
      "text/plain": [
       "    Métrica  Treino_x   Teste_x  Treino_y   Teste_y  final treino  \\\n",
       "0   AUC-ROC  0.845713  0.824839  0.839593  0.820819     -0.006120   \n",
       "1  Acurácia  0.775086  0.760350  0.800124  0.791942      0.025038   \n",
       "2  Precisão  0.403782  0.381964  0.436377  0.421402      0.032595   \n",
       "3    Recall  0.733372  0.708621  0.683423  0.665899     -0.049949   \n",
       "4  F1-score  0.520813  0.496371  0.532649  0.516161      0.011836   \n",
       "5  Log Loss  0.487714  0.504006  0.472765  0.491182     -0.014949   \n",
       "\n",
       "   final teste  razao teste/treino  \n",
       "0    -0.004019            0.656799  \n",
       "1     0.031592            1.261787  \n",
       "2     0.039438            1.209945  \n",
       "3    -0.042722            0.855314  \n",
       "4     0.019790            1.672022  \n",
       "5    -0.012825            0.857880  "
      ]
     },
     "execution_count": 31,
     "metadata": {},
     "output_type": "execute_result"
    }
   ],
   "source": [
    "metrica_comparada = pd.merge(metrica_inicial, metrica_final, on=\"Métrica\")\n",
    "metrica_comparada['final treino'] = metrica_comparada['Treino_y'] -metrica_comparada['Treino_x'] \n",
    "metrica_comparada['final teste'] =  metrica_comparada['Teste_y'] - metrica_comparada['Teste_x']\n",
    "metrica_comparada['razao teste/treino'] = metrica_comparada['final teste']/metrica_comparada['final treino']\n",
    "metrica_comparada"
   ]
  },
  {
   "cell_type": "code",
   "execution_count": 32,
   "metadata": {},
   "outputs": [
    {
     "name": "stdout",
     "output_type": "stream",
     "text": [
      "Figura salva em: C:\\Users\\Natalia\\OneDrive\\Documentos\\PROJETOS\\Kognita\\x_health\\reports\\figures/matriz_confusao_XGBoost_final.png\n"
     ]
    },
    {
     "data": {
      "image/png": "[encoded data removed]",
      "text/plain": [
       "<Figure size 600x300 with 2 Axes>"
      ]
     },
     "metadata": {},
     "output_type": "display_data"
    }
   ],
   "source": [
    "plot_matriz_confusao(y_true_train, y_pred_train, y_true_test, y_pred_test, \n",
    "                     size=(6,3), cmap_train=\"Reds\", cmap_test=\"Blues\", \n",
    "                     save_path=f'{FIGURES_DIR}/matriz_confusao_XGBoost_final.png')"
   ]
  },
  {
   "cell_type": "markdown",
   "metadata": {},
   "source": [
    "## Salvar modelo treinado em pickle"
   ]
  },
  {
   "cell_type": "code",
   "execution_count": 33,
   "metadata": {},
   "outputs": [],
   "source": [
    "# Definir o caminho do modelo e seu nome\n",
    "caminho_modelo = f\"{MODELS_DIR}/modelo_xgboost.pkl\""
   ]
  },
  {
   "cell_type": "code",
   "execution_count": 34,
   "metadata": {},
   "outputs": [
    {
     "name": "stdout",
     "output_type": "stream",
     "text": [
      "Modelo salvo em: C:\\Users\\Natalia\\OneDrive\\Documentos\\PROJETOS\\Kognita\\x_health\\models/modelo_xgboost.pkl\n"
     ]
    }
   ],
   "source": [
    "\n",
    "with open(caminho_modelo, \"wb\") as file:\n",
    "    pickle.dump(model, file)\n",
    "\n",
    "print(f\"Modelo salvo em: {caminho_modelo}\")"
   ]
  }
 ],
 "metadata": {
  "kernelspec": {
   "display_name": "venv_xhealth",
   "language": "python",
   "name": "python3"
  },
  "language_info": {
   "codemirror_mode": {
    "name": "ipython",
    "version": 3
   },
   "file_extension": ".py",
   "mimetype": "text/x-python",
   "name": "python",
   "nbconvert_exporter": "python",
   "pygments_lexer": "ipython3",
   "version": "3.11.9"
  }
 },
 "nbformat": 4,
 "nbformat_minor": 2
}
