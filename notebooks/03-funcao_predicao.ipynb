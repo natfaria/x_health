{
 "cells": [
  {
   "cell_type": "markdown",
   "metadata": {},
   "source": [
    "# Função Preditiva\n",
    " Notebook apenas com uma **função de predição**: recebe novos dados em forma de dicionário e retorna a predição de default. \n",
    "\n",
    "\"\"\"\n",
    "Estrutura esperada para o dicionário de entrada (input_dict):\n",
    "{\n",
    "    'flag_valor_vencido': bin,  # 0 ou 1\n",
    "    'quant_protestos': int,  # Número inteiro\n",
    "    'default_3months': int,  # 0 ou 1\n",
    "    'opcao_tributaria': str,  # Categoria (exemplo: 'Simples', 'Lucro Real')\n",
    "    'razao_valor_vencido': float,  # Número decimal\n",
    "    'forma_pagamento_agrup': str,  # Categoria\n",
    "    'periodo_fiscal': str,  # Categoria\n",
    "    'ioi_3months': int,  # Número inteiro\n",
    "    'historico_pagamento': float  # Número decimal\n",
    "}\n",
    "\"\"\"\n",
    "\n",
    "se no seu modelo final optou por usar as variáveis preditoras \"ioi\\_3months\", \"valor\\_vencido\" e \"valor\\_total\\_pedido\", espera-se que sua função de predição tenha como input um dicionário da forma\n",
    "input_dict = {\"ioi_3months\": 3, \"valor_vencido\":125000, \"valor_total_pedido\":35000}\n",
    "```\n",
    "onde os valores no dicionário acima são os hipotéticos novos valores, e retorne um dicionário com o valor da predição:\n",
    "\n",
    "```\n",
    "{\"default\":0}\n",
    "```\n",
    "ou \n",
    "\n",
    "```\n",
    "{\"default\":1}"
   ]
  },
  {
   "cell_type": "markdown",
   "metadata": {},
   "source": [
    "### Bibliotecas"
   ]
  },
  {
   "cell_type": "code",
   "execution_count": 47,
   "metadata": {},
   "outputs": [],
   "source": [
    "#adicionando retorno no diretório ao caminho\n",
    "import sys\n",
    "sys.path.append('../')\n",
    "\n",
    "#ignorar warnings \n",
    "import warnings\n",
    "warnings.filterwarnings('ignore')\n",
    "\n",
    "#informação de diretórios\n",
    "from x_health.config import *"
   ]
  },
  {
   "cell_type": "code",
   "execution_count": 48,
   "metadata": {},
   "outputs": [],
   "source": [
    "import pickle\n",
    "import pandas as pd\n",
    "import json\n",
    "\n",
    "import xgboost as xgb\n",
    "from sklearn.preprocessing import LabelEncoder"
   ]
  },
  {
   "cell_type": "markdown",
   "metadata": {},
   "source": [
    "## Leitura do Modelo Treinado"
   ]
  },
  {
   "cell_type": "code",
   "execution_count": 49,
   "metadata": {},
   "outputs": [],
   "source": [
    "# Definir o caminho do modelo\n",
    "caminho_modelo = f\"{MODELS_DIR}/modelo_xgboost.pkl\"\n",
    "\n",
    "# Carregar o modelo treinado\n",
    "with open(caminho_modelo, \"rb\") as file:\n",
    "    modelo = pickle.load(file)"
   ]
  },
  {
   "cell_type": "markdown",
   "metadata": {},
   "source": [
    "## Caminho do dicionário"
   ]
  },
  {
   "cell_type": "code",
   "execution_count": 51,
   "metadata": {},
   "outputs": [],
   "source": [
    "# Definir o caminho do arquivo de entrada\n",
    "caminho_arquivo_entrada = f\"{RAW_DATA_DIR}\\input_dados_random.json\"\n",
    "\n",
    "# Carregar os dados do arquivo JSON\n",
    "with open(caminho_arquivo_entrada, \"r\") as file:\n",
    "    input_dict = json.load(file)"
   ]
  },
  {
   "cell_type": "code",
   "execution_count": 52,
   "metadata": {},
   "outputs": [
    {
     "data": {
      "text/plain": [
       "Index(['flag_valor_vencido', 'quant_protestos', 'default_3months',\n",
       "       'opcao_tributaria', 'razao_valor_vencido', 'forma_pagamento_agrup',\n",
       "       'periodo_fiscal', 'ioi_3months', 'historico_pagamento'],\n",
       "      dtype='object')"
      ]
     },
     "execution_count": 52,
     "metadata": {},
     "output_type": "execute_result"
    }
   ],
   "source": [
    "# Converter dicionário para DataFrame\n",
    "df = pd.DataFrame([input_dict])\n",
    "df.columns"
   ]
  },
  {
   "cell_type": "code",
   "execution_count": 53,
   "metadata": {},
   "outputs": [],
   "source": [
    "# Converte variáveis categóricas para numéricas\n",
    "label_encoders = {}\n",
    "for col in df.select_dtypes(include=['object']).columns:\n",
    "    le = LabelEncoder()\n",
    "    df[col] = le.fit_transform(df[col])\n",
    "    label_encoders[col] = le  # Salva os encoders para referência futura, se necessário"
   ]
  },
  {
   "cell_type": "code",
   "execution_count": 54,
   "metadata": {},
   "outputs": [],
   "source": [
    "#garantir a ordem das colunas\n",
    "df = df[modelo.feature_names]"
   ]
  },
  {
   "cell_type": "code",
   "execution_count": 55,
   "metadata": {},
   "outputs": [],
   "source": [
    "# Converter DataFrame para DMatrix\n",
    "dmatrix = xgb.DMatrix(df)"
   ]
  },
  {
   "cell_type": "code",
   "execution_count": 56,
   "metadata": {},
   "outputs": [],
   "source": [
    "# Fazer predição\n",
    "predicao = modelo.predict(dmatrix)"
   ]
  },
  {
   "cell_type": "code",
   "execution_count": 57,
   "metadata": {},
   "outputs": [],
   "source": [
    "# Converter para 0 ou 1 baseado no threshold de 0.5\n",
    "resultado = int(predicao[0] > 0.5)"
   ]
  },
  {
   "cell_type": "code",
   "execution_count": 58,
   "metadata": {},
   "outputs": [
    {
     "name": "stdout",
     "output_type": "stream",
     "text": [
      "{'default': 0}\n"
     ]
    }
   ],
   "source": [
    "# Retornar a predição\n",
    "default_predicao = {\"default\": resultado}\n",
    "print(default_predicao)"
   ]
  },
  {
   "cell_type": "code",
   "execution_count": 60,
   "metadata": {},
   "outputs": [
    {
     "name": "stdout",
     "output_type": "stream",
     "text": [
      "Arquivo salvo com sucesso em C:\\Users\\Natalia\\OneDrive\\Documentos\\PROJETOS\\Kognita\\x_health\\data\\processed\\default_predicao.json!\n"
     ]
    }
   ],
   "source": [
    "caminho_default_predicao = f\"{PROCESSED_DATA_DIR}\\default_predicao.json\"\n",
    "with open(caminho_arquivo_entrada, \"w\") as file:\n",
    "    json.dump(default_predicao, file, indent=4)\n",
    "    \n",
    "    print(f\"Arquivo salvo com sucesso em {caminho_default_predicao}!\")"
   ]
  },
  {
   "cell_type": "code",
   "execution_count": null,
   "metadata": {},
   "outputs": [],
   "source": []
  }
 ],
 "metadata": {
  "kernelspec": {
   "display_name": "venv_xhealth",
   "language": "python",
   "name": "python3"
  },
  "language_info": {
   "codemirror_mode": {
    "name": "ipython",
    "version": 3
   },
   "file_extension": ".py",
   "mimetype": "text/x-python",
   "name": "python",
   "nbconvert_exporter": "python",
   "pygments_lexer": "ipython3",
   "version": "3.11.9"
  }
 },
 "nbformat": 4,
 "nbformat_minor": 2
}
